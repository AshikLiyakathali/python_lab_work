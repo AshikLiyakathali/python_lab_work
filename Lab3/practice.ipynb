{
 "cells": [
  {
   "cell_type": "code",
   "execution_count": 1,
   "id": "59827818",
   "metadata": {},
   "outputs": [],
   "source": [
    "## Please make sure \"lab.py\" is in your \"lab-p3\" folder.\n",
    "## For now, just run this cell. We will be learning more in Segment 3.\n",
    "\n",
    "# It is a good practice to include all import statements at \n",
    "# the top of your notebook file.\n",
    "import lab"
   ]
  },
  {
   "cell_type": "markdown",
   "id": "4efdfea3-b2b5-4080-90bb-1447189224c7",
   "metadata": {},
   "source": [
    "## Segment 2: Defining your own functions and testing them.\n",
    "#### Task 2.1: Practice using `min()` and `max()`"
   ]
  },
  {
   "cell_type": "code",
   "execution_count": 3,
   "id": "71051912-1de3-4e10-81ab-05ba0acd3fdf",
   "metadata": {},
   "outputs": [
    {
     "name": "stdout",
     "output_type": "stream",
     "text": [
      "105\n"
     ]
    }
   ],
   "source": [
    "## Find the smallest number\n",
    "\n",
    "smallest = min(998, 232, 801, 105)\n",
    "print(smallest)\n",
    "\n",
    "# Next, add another number as the last argument to min function call.\n",
    "# The new number should be lower than all the other numbers. \n",
    "# Run the cell again.\n",
    "\n"
   ]
  },
  {
   "cell_type": "code",
   "execution_count": 6,
   "id": "9ca84082-5adc-416d-a519-2661b5c9b1a6",
   "metadata": {},
   "outputs": [
    {
     "name": "stdout",
     "output_type": "stream",
     "text": [
      "1078\n"
     ]
    }
   ],
   "source": [
    "## Find the largest number\n",
    "\n",
    "largest = max(998, 232, 801, 1078)\n",
    "print(largest)\n",
    "\n",
    "# Verify that your result is 998."
   ]
  },
  {
   "cell_type": "markdown",
   "id": "425dd4fb-031d-4994-a33d-1e760c704e14",
   "metadata": {},
   "source": [
    "#### Task 2.2: Write the function `get_avg_drop_lowest`.\n",
    "- This function will have three **parameters**, score1, score2, score3.\n",
    "- It adds up the 3 scores, subtracts out the min score, and then determines the average of the remaining two.\n",
    "- The example function calls enable you to verify your function definition:\n",
    "    - If your function has an error, fix it.  If you are not sure how, ask your neighbor for the TA for help. "
   ]
  },
  {
   "cell_type": "code",
   "execution_count": 25,
   "id": "45e23367-a681-462e-85ea-2e35bc259fda",
   "metadata": {},
   "outputs": [],
   "source": [
    "def get_avg_drop_lowest(score1, score2, score3):\n",
    "    smallest = min(score1, score2, score3)\n",
    "    sum_of_larger_two = (score1 + score2 + score3) - smallest\n",
    "    avg =  sum_of_larger_two / 2\n",
    "    #print(smallest)\n",
    "    #print(sum_of_larger_two)\n",
    "    #print(avg)\n",
    "    return avg\n",
    "\n",
    "#get_avg_drop_lowest(10,20,30)"
   ]
  },
  {
   "cell_type": "code",
   "execution_count": 26,
   "id": "ad0797e5-ab11-411b-82ba-b28651774fd7",
   "metadata": {},
   "outputs": [
    {
     "name": "stdout",
     "output_type": "stream",
     "text": [
      "expected: 19.0  actual:  19.0\n"
     ]
    }
   ],
   "source": [
    "print(\"expected: 19.0  actual: \", get_avg_drop_lowest(18, 20, 17))"
   ]
  },
  {
   "cell_type": "code",
   "execution_count": 27,
   "id": "9f8bb028-1d19-432c-abba-9398590ac5b0",
   "metadata": {},
   "outputs": [
    {
     "name": "stdout",
     "output_type": "stream",
     "text": [
      "expected: 45.0  actual:  45.0\n"
     ]
    }
   ],
   "source": [
    "print(\"expected: 45.0  actual: \", get_avg_drop_lowest(42, 46, 44))"
   ]
  },
  {
   "cell_type": "markdown",
   "id": "1bde9180-9f33-4057-ab34-87ddcf93c09b",
   "metadata": {},
   "source": [
    "#### Task 2.3: Write the function `get_avg_max_counts_twice` with 4 parameters.\n",
    "- this function will work with 4 scores (as parameters).  \n",
    "- this function allows the max value to count twice, so there are in effect 5 values being averaged. "
   ]
  },
  {
   "cell_type": "code",
   "execution_count": 18,
   "id": "5e58f5ee-e5c0-41fa-8fb3-93de7e1fdab7",
   "metadata": {},
   "outputs": [],
   "source": [
    "def get_avg_max_counts_twice(score1, score2, score3, score4):\n",
    "    largest = max(score1, score2, score3, score4)\n",
    "    sum_of_five_number = score1 + score2 + score3 + score4 + largest\n",
    "    avg = sum_of_five_number / 5\n",
    "    return avg"
   ]
  },
  {
   "cell_type": "code",
   "execution_count": 19,
   "id": "a8ec214d-3d38-4511-b7a7-29a729de5660",
   "metadata": {},
   "outputs": [
    {
     "name": "stdout",
     "output_type": "stream",
     "text": [
      "expected: 48.0  actual:  48.0\n"
     ]
    }
   ],
   "source": [
    "print(\"expected: 48.0  actual: \", get_avg_max_counts_twice(30, 40, 60, 50) )"
   ]
  },
  {
   "cell_type": "code",
   "execution_count": 20,
   "id": "4655f5ca-2e48-4401-ab39-0d1033424b14",
   "metadata": {},
   "outputs": [
    {
     "name": "stdout",
     "output_type": "stream",
     "text": [
      "expected: 28.0  actual:  28.0\n"
     ]
    }
   ],
   "source": [
    "print(\"expected: 28.0  actual: \", get_avg_max_counts_twice(40, 20, 10, 30) )"
   ]
  },
  {
   "cell_type": "markdown",
   "id": "01be1d87-5da5-41e8-9acc-777c4eba3862",
   "metadata": {},
   "source": [
    "#### Task 2.4: Write the function `get_range` with 4 parameters."
   ]
  },
  {
   "cell_type": "code",
   "execution_count": 101,
   "id": "9b89e23b-b0d1-4d36-989b-1d2e9aa1bae8",
   "metadata": {},
   "outputs": [],
   "source": [
    "def get_range(a, b, c, d):\n",
    "    '''returns the largest value minus the smallest value'''\n",
    "    # the above line after the header is called a **docstring**.  \n",
    "    # It helps someone reading or using your function understand what the function does.\n",
    "    largest = max(a, b, c, d)\n",
    "    smallest = min(a, b, c, d)\n",
    "    return largest - smallest"
   ]
  },
  {
   "cell_type": "code",
   "execution_count": 29,
   "id": "9bfb52c0-6246-4838-8b50-50875decf565",
   "metadata": {},
   "outputs": [
    {
     "name": "stdout",
     "output_type": "stream",
     "text": [
      "expected: 50  actual:  50\n"
     ]
    }
   ],
   "source": [
    "print(\"expected: 50  actual: \", get_range(10, 40, 60, 50) )"
   ]
  },
  {
   "cell_type": "code",
   "execution_count": 30,
   "id": "2add018e-c4b8-4329-b25d-18b8f3fb09c2",
   "metadata": {},
   "outputs": [
    {
     "name": "stdout",
     "output_type": "stream",
     "text": [
      "expected: 40  actual:  40\n"
     ]
    }
   ],
   "source": [
    "print(\"expected: 40  actual: \", get_range(70, 60, 30, 50) )"
   ]
  },
  {
   "cell_type": "markdown",
   "id": "7c44e2c9-b4f9-4158-b019-87447ccefeed",
   "metadata": {},
   "source": [
    "#### Task 2.5: Write the function `avg_rate_of_change`."
   ]
  },
  {
   "cell_type": "code",
   "execution_count": 47,
   "id": "b0a31c71-f1ce-451e-bcf6-a4445c9dab97",
   "metadata": {},
   "outputs": [],
   "source": [
    "def get_change_per_year(year1, value1, year2, value2):\n",
    "    value_change = value2 - value1\n",
    "    years_count = year2 - year1\n",
    "    avg_rate_of_change = value_change / years_count\n",
    "    return avg_rate_of_change\n",
    "    # Sometimes when a programmer knows the header of a function,\n",
    "    # but does not know what code will go in the function just yet, \n",
    "    # they write `pass`.  \n",
    "    # This serves as a placeholder and allows the interpreter to run \n",
    "    # the function definition without generating a Syntax Error. \n",
    "    \n",
    "    # TODO: 1. Run this cell as such without making any changes\n",
    "    # TODO: 2. Comment out the line with pass and try to run this cell, \n",
    "    #          you'll get an error"
   ]
  },
  {
   "cell_type": "code",
   "execution_count": 48,
   "id": "44b446fe-73ba-440b-96e8-ddc2198954c3",
   "metadata": {},
   "outputs": [
    {
     "name": "stdout",
     "output_type": "stream",
     "text": [
      "expected: 67.15 \t actual:  67.15\n"
     ]
    }
   ],
   "source": [
    "print(\"expected: 67.15 \\t actual: \", get_change_per_year(2015, 654.8, 2019, 923.4))"
   ]
  },
  {
   "cell_type": "code",
   "execution_count": 49,
   "id": "01f081fc-c7a1-4113-bddc-072828a593e1",
   "metadata": {},
   "outputs": [
    {
     "name": "stdout",
     "output_type": "stream",
     "text": [
      "expected: -83.5 \t actual:  -83.5\n"
     ]
    }
   ],
   "source": [
    "print(\"expected: -83.5 \\t actual: \", get_change_per_year(2020, 506.5, 2021, 423.0))"
   ]
  },
  {
   "cell_type": "markdown",
   "id": "33fbfa4c-c0f3-4e94-8d3f-8aca38c0e5f5",
   "metadata": {},
   "source": [
    "--------------------------------------------------------------\n",
    "## Segment 3: Inspecting lab.py\n",
    "#### Task 3.1: Exploring `lab.py`\n",
    "\n",
    "Let's check out the `lab.py`. `lab.py` is similar to (but not the same as) the `project.py` API that you will be using for project P3. \n",
    "\n",
    "`lab` is an example of a custom module. You can use any script mode file, that is a file with `.py` extension as a custom module. While importing the custom module, you will leave out the `.py`. Hence `import lab`. It is good practice to include all import statements at the beginning of the notebook file. That is why we already ran the cell containing `import lab`."
   ]
  },
  {
   "cell_type": "code",
   "execution_count": 50,
   "id": "88b8dad2-9299-4008-be58-cb9b60235788",
   "metadata": {},
   "outputs": [
    {
     "data": {
      "text/plain": [
       "['__DictReader',\n",
       " '__agency_to_id',\n",
       " '__builtins__',\n",
       " '__cached__',\n",
       " '__data',\n",
       " '__doc__',\n",
       " '__file__',\n",
       " '__loader__',\n",
       " '__name__',\n",
       " '__package__',\n",
       " '__spec__',\n",
       " 'dump',\n",
       " 'get_idx',\n",
       " 'get_spending',\n",
       " 'init']"
      ]
     },
     "execution_count": 50,
     "metadata": {},
     "output_type": "execute_result"
    }
   ],
   "source": [
    "# If you want, you can check expected output in github page for lab-p3 (not required).\n",
    "dir(lab)"
   ]
  },
  {
   "cell_type": "markdown",
   "id": "22435ce1",
   "metadata": {},
   "source": [
    "We see there are four functions here (ignoring the things beginning with two underscores):\n",
    "\n",
    "* `dump`\n",
    "* `get_spending`\n",
    "* `get_idx`\n",
    "* `init`"
   ]
  },
  {
   "cell_type": "code",
   "execution_count": 51,
   "id": "500a781e-49da-4d87-a14d-02043ab59650",
   "metadata": {},
   "outputs": [
    {
     "name": "stdout",
     "output_type": "stream",
     "text": [
      "Help on function dump in module lab:\n",
      "\n",
      "dump()\n",
      "    prints all the data to the screen\n",
      "\n"
     ]
    }
   ],
   "source": [
    "# help function enables you to look at the documentation for a function\n",
    "# As an argument you need to pass the name of the function\n",
    "help(lab.dump)"
   ]
  },
  {
   "cell_type": "code",
   "execution_count": 52,
   "id": "82ba0506-0662-4c10-96f2-012b216583dc",
   "metadata": {},
   "outputs": [
    {
     "ename": "Exception",
     "evalue": "you did not call init first",
     "output_type": "error",
     "traceback": [
      "\u001b[0;31m---------------------------------------------------------------------------\u001b[0m",
      "\u001b[0;31mException\u001b[0m                                 Traceback (most recent call last)",
      "\u001b[0;32m/var/folders/bp/j6lbgfvx5p14h_sr80tjn08c0000gp/T/ipykernel_87616/3136362995.py\u001b[0m in \u001b[0;36m<module>\u001b[0;34m\u001b[0m\n\u001b[1;32m      1\u001b[0m \u001b[0;31m# You will get an error when you invoke dump function.\u001b[0m\u001b[0;34m\u001b[0m\u001b[0;34m\u001b[0m\u001b[0m\n\u001b[1;32m      2\u001b[0m \u001b[0;31m# If you want, you can check expected output in github page for lab-p3 (not required).\u001b[0m\u001b[0;34m\u001b[0m\u001b[0;34m\u001b[0m\u001b[0m\n\u001b[0;32m----> 3\u001b[0;31m \u001b[0mlab\u001b[0m\u001b[0;34m.\u001b[0m\u001b[0mdump\u001b[0m\u001b[0;34m(\u001b[0m\u001b[0;34m)\u001b[0m\u001b[0;34m\u001b[0m\u001b[0;34m\u001b[0m\u001b[0m\n\u001b[0m",
      "\u001b[0;32m~/Documents/Digital Builder Program/CS220/Labs/lab3/lab.py\u001b[0m in \u001b[0;36mdump\u001b[0;34m()\u001b[0m\n\u001b[1;32m     34\u001b[0m     \u001b[0;34m\"\"\"prints all the data to the screen\"\"\"\u001b[0m\u001b[0;34m\u001b[0m\u001b[0;34m\u001b[0m\u001b[0m\n\u001b[1;32m     35\u001b[0m     \u001b[0;32mif\u001b[0m \u001b[0m__agency_to_id\u001b[0m \u001b[0;34m==\u001b[0m \u001b[0;32mNone\u001b[0m\u001b[0;34m:\u001b[0m\u001b[0;34m\u001b[0m\u001b[0;34m\u001b[0m\u001b[0m\n\u001b[0;32m---> 36\u001b[0;31m         \u001b[0;32mraise\u001b[0m \u001b[0mException\u001b[0m\u001b[0;34m(\u001b[0m\u001b[0;34m\"you did not call init first\"\u001b[0m\u001b[0;34m)\u001b[0m\u001b[0;34m\u001b[0m\u001b[0;34m\u001b[0m\u001b[0m\n\u001b[0m\u001b[1;32m     37\u001b[0m \u001b[0;34m\u001b[0m\u001b[0m\n\u001b[1;32m     38\u001b[0m     \u001b[0;32mfor\u001b[0m \u001b[0magency\u001b[0m \u001b[0;32min\u001b[0m \u001b[0msorted\u001b[0m\u001b[0;34m(\u001b[0m\u001b[0m__agency_to_id\u001b[0m\u001b[0;34m.\u001b[0m\u001b[0mkeys\u001b[0m\u001b[0;34m(\u001b[0m\u001b[0;34m)\u001b[0m\u001b[0;34m)\u001b[0m\u001b[0;34m:\u001b[0m\u001b[0;34m\u001b[0m\u001b[0;34m\u001b[0m\u001b[0m\n",
      "\u001b[0;31mException\u001b[0m: you did not call init first"
     ]
    }
   ],
   "source": [
    "# You will get an error when you invoke dump function.\n",
    "# If you want, you can check expected output in github page for lab-p3 (not required).\n",
    "lab.dump()"
   ]
  },
  {
   "cell_type": "code",
   "execution_count": 53,
   "id": "8bd1af61-d039-4299-8fda-cf838d2fae77",
   "metadata": {},
   "outputs": [
    {
     "name": "stdout",
     "output_type": "stream",
     "text": [
      "Help on function init in module lab:\n",
      "\n",
      "init(path)\n",
      "    init(path) must be called to load data before other calls will work.  You should call it like this: init(\"madison.csv\")\n",
      "\n"
     ]
    }
   ],
   "source": [
    "# TODO: Use help function to read documentation for lab.init function\n",
    "# If you want, you can check expected output in github page for lab-p3 (not required).\n",
    "help(lab.init)"
   ]
  },
  {
   "cell_type": "markdown",
   "id": "bf249f1c",
   "metadata": {},
   "source": [
    "For some APIs, you must call certain function(s) before other function(s). For the `lab` and `project` APIs, you must invoke `init` function first. "
   ]
  },
  {
   "cell_type": "code",
   "execution_count": 54,
   "id": "0a1be902-f030-46d4-98d1-62d50452ff49",
   "metadata": {},
   "outputs": [],
   "source": [
    "## Now you load the madison dataset\n",
    "lab.init(\"madison.csv\")"
   ]
  },
  {
   "cell_type": "markdown",
   "id": "5f9928e6-c00a-4a74-a960-aa573b1fcc44",
   "metadata": {},
   "source": [
    "#### Task 3.2: Using `lab.py`"
   ]
  },
  {
   "cell_type": "markdown",
   "id": "54cdf174",
   "metadata": {},
   "source": [
    "You can check expected output for the below cell in github page for lab-p3."
   ]
  },
  {
   "cell_type": "code",
   "execution_count": 55,
   "id": "1904789e-f3d8-40a5-a157-5c3e9d2110ab",
   "metadata": {},
   "outputs": [
    {
     "name": "stdout",
     "output_type": "stream",
     "text": [
      "governments [ID 15]\n",
      "  2017: $25.368880 MILLION\n",
      "  2018: $28.228622 MILLION\n",
      "  2019: $26.655754 MILLION\n",
      "  2020: $27.798934 MILLION\n",
      "\n",
      "gyms    [ID 6]\n",
      "  2017: $49.737579 MILLION\n",
      "  2018: $51.968340 MILLION\n",
      "  2019: $53.144053 MILLION\n",
      "  2020: $55.215007 MILLION\n",
      "\n",
      "restaurants [ID 7]\n",
      "  2017: $16.965434 MILLION\n",
      "  2018: $18.125521 MILLION\n",
      "  2019: $19.136348 MILLION\n",
      "  2020: $19.845066 MILLION\n",
      "\n",
      "schools [ID 3]\n",
      "  2017: $68.063469 MILLION\n",
      "  2018: $71.325756 MILLION\n",
      "  2019: $73.247948 MILLION\n",
      "  2020: $77.875535 MILLION\n",
      "\n",
      "stores  [ID 122]\n",
      "  2017: $18.371421 MILLION\n",
      "  2018: $19.159243 MILLION\n",
      "  2019: $19.316837 MILLION\n",
      "  2020: $19.760710 MILLION\n",
      "\n"
     ]
    }
   ],
   "source": [
    "## What's inside the \"madison.csv\" dataset?\n",
    "lab.dump()"
   ]
  },
  {
   "cell_type": "markdown",
   "id": "539ee716",
   "metadata": {},
   "source": [
    "This is actual spending data for five large agencies in the City of Madison over four years.\n",
    "\n",
    "Why do we need to call `init` before `dump` and other functions? Because `init` loads data from a CSV file (CSV files [short for comma separated values] are like simple spreadsheets), and in this lab or a future project you might want to also use a CSV file other than `madison.csv`.  For example, let's use `init` to load data from `lab.csv`."
   ]
  },
  {
   "cell_type": "code",
   "execution_count": 56,
   "id": "af24591e",
   "metadata": {},
   "outputs": [],
   "source": [
    "# This cell is intentionally left blank\n",
    "# Read the next description and complete the TODO"
   ]
  },
  {
   "cell_type": "markdown",
   "id": "97780113",
   "metadata": {},
   "source": [
    "You will see this warning after you complete and run the below cell's code:\n",
    "\n",
    "WARNING!  Opening a path other than madison.csv.  That's fine for testing your code yourself, but madison.csv will be the only file around when we test your code for grading."
   ]
  },
  {
   "cell_type": "code",
   "execution_count": 57,
   "id": "c1f3057d-ca6e-4f97-a88e-3d0cff7eac19",
   "metadata": {},
   "outputs": [
    {
     "name": "stdout",
     "output_type": "stream",
     "text": [
      "WARNING!  Opening a path other than madison.csv.  That's fine for testing your code yourself, but madison.csv will be the only file around when we test your code for grading.\n"
     ]
    }
   ],
   "source": [
    "## TODO: use lab.init function to load data from \"lab.csv\"\n",
    "lab.init(\"lab.csv\")"
   ]
  },
  {
   "cell_type": "code",
   "execution_count": 58,
   "id": "55bd3c93-b146-45a5-834e-956550815e0f",
   "metadata": {},
   "outputs": [
    {
     "name": "stdout",
     "output_type": "stream",
     "text": [
      "environments [ID 2]\n",
      "  2017: $14.733000 MILLION\n",
      "  2018: $12.060000 MILLION\n",
      "  2019: $13.851000 MILLION\n",
      "  2020: $15.765000 MILLION\n",
      "\n",
      "libraries [ID 9]\n",
      "  2017: $20.063469 MILLION\n",
      "  2018: $21.325756 MILLION\n",
      "  2019: $23.247948 MILLION\n",
      "  2020: $27.875535 MILLION\n",
      "\n"
     ]
    }
   ],
   "source": [
    "## TODO: invoke the dump function to see the data inside \"lab.csv\"\n",
    "## Refer to Task 3.1 if you need refresher on how to invoke dump function in lab module\n",
    "# If you want, you can check expected output in github page for lab-p3 (not required).\n",
    "lab.dump()"
   ]
  },
  {
   "cell_type": "code",
   "execution_count": 60,
   "id": "386abcf3-e05c-4c42-8d96-766c49a9ade2",
   "metadata": {},
   "outputs": [
    {
     "name": "stdout",
     "output_type": "stream",
     "text": [
      "Help on function get_idx in module lab:\n",
      "\n",
      "get_idx(agency)\n",
      "    get_idx(agency) returns the ID of the specified agency.\n",
      "\n"
     ]
    }
   ],
   "source": [
    "## TODO: invoke help function to read the description of lab.get_idx function\n",
    "# If you want, you can check expected output in github page for lab-p3 (not required).\n",
    "help(lab.get_idx)"
   ]
  },
  {
   "cell_type": "markdown",
   "id": "507858ab",
   "metadata": {},
   "source": [
    "`get_idx` looks up an index given a name."
   ]
  },
  {
   "cell_type": "code",
   "execution_count": 63,
   "id": "7cbd5957-ec66-46b6-8569-b64a24b98d78",
   "metadata": {},
   "outputs": [
    {
     "data": {
      "text/plain": [
       "2"
      ]
     },
     "execution_count": 63,
     "metadata": {},
     "output_type": "execute_result"
    }
   ],
   "source": [
    "## Here is an example invocation of get_idx function\n",
    "## This enables you to look up ID for \"environments\"\n",
    "lab.get_idx(\"environments\")"
   ]
  },
  {
   "cell_type": "markdown",
   "id": "14cdb2b9",
   "metadata": {},
   "source": [
    "`get_spending` looks up spending in a specific year, given an index."
   ]
  },
  {
   "cell_type": "code",
   "execution_count": 64,
   "id": "e4348b13",
   "metadata": {},
   "outputs": [
    {
     "name": "stdout",
     "output_type": "stream",
     "text": [
      "Help on function get_spending in module lab:\n",
      "\n",
      "get_spending(agency_id, year=2018)\n",
      "    get_spending(agency_id, year) returns the dollars spent (in millions) by the specified agency in specified year.\n",
      "\n"
     ]
    }
   ],
   "source": [
    "## invoke help function to read about get_spending function\n",
    "help(lab.get_spending)"
   ]
  },
  {
   "cell_type": "markdown",
   "id": "4becdeb5",
   "metadata": {},
   "source": [
    "#### Index hardcoding\n",
    "- harcoding index is never a good idea:\n",
    "    - your dataset might potentially be updated in the future and your data might get different index\n",
    "- you should always use API call to retrive the index:\n",
    "    - in this project, you *must* call `get_idx` function\n",
    "- below is a bad example of `get_spending` invocation"
   ]
  },
  {
   "cell_type": "code",
   "execution_count": 65,
   "id": "a711adef-ba2a-4a85-a676-f6630006112f",
   "metadata": {},
   "outputs": [
    {
     "data": {
      "text/plain": [
       "15.765"
      ]
     },
     "execution_count": 65,
     "metadata": {},
     "output_type": "execute_result"
    }
   ],
   "source": [
    "## Looks up spending of environments with index 2 in 2020\n",
    "lab.get_spending(2, 2020)"
   ]
  },
  {
   "cell_type": "code",
   "execution_count": 67,
   "id": "6eda1d53-10a1-4461-a56b-a0c90dbf8999",
   "metadata": {},
   "outputs": [
    {
     "data": {
      "text/plain": [
       "15.765"
      ]
     },
     "execution_count": 67,
     "metadata": {},
     "output_type": "execute_result"
    }
   ],
   "source": [
    "## TODO: fix the above example\n",
    "## update it so that we don't hardcode the index(2)\n",
    "## Index 2 corresponds to \"environments\"\n",
    "lab.get_spending(lab.get_idx(\"environments\"), 2020)"
   ]
  },
  {
   "cell_type": "markdown",
   "id": "658a2c3a",
   "metadata": {},
   "source": [
    "What is the default value of the parameter `year` in `get_spending`?\n",
    "- confirm your answer by going back and looking at help function output for `get_spending`"
   ]
  },
  {
   "cell_type": "code",
   "execution_count": 69,
   "id": "9c50275b-7edc-48eb-bd8e-adcbe0dbe68e",
   "metadata": {},
   "outputs": [
    {
     "data": {
      "text/plain": [
       "21.32575615"
      ]
     },
     "execution_count": 69,
     "metadata": {},
     "output_type": "execute_result"
    }
   ],
   "source": [
    "lab.get_spending(lab.get_idx(\"libraries\"))\n",
    "## TODO: which year's libraries spending are we looking up here? \n",
    "## Ans: 2018\n",
    "## Confirm your answer for the above question with a TA / PM"
   ]
  },
  {
   "cell_type": "markdown",
   "id": "431773cf",
   "metadata": {},
   "source": [
    "#### How can you verify your answers?\n",
    "- Let's open the dataset csv file\n",
    "- Go to github page for lab-p3, in a new tab open lab.csv\n",
    "- Now look at the csv file and determine whether you got the correct spending for \"libraries\" for the default value of the `year` parameter."
   ]
  },
  {
   "cell_type": "markdown",
   "id": "e6f02663-1910-49de-b3c1-410234d111ff",
   "metadata": {},
   "source": [
    "#### Task 3.3: Other Tasks"
   ]
  },
  {
   "cell_type": "code",
   "execution_count": 70,
   "id": "366286b4-47cd-4d7d-9b94-6b43b71dbd1b",
   "metadata": {},
   "outputs": [],
   "source": [
    "## Let's switch back to `madison.csv`\n",
    "lab.init(\"madison.csv\")"
   ]
  },
  {
   "cell_type": "markdown",
   "id": "c8bf5b03",
   "metadata": {},
   "source": [
    "Let's experiment with the three ways of passing arguments:\n",
    "\n",
    "* `lab.get_spending(lab.get_idx(\"gyms\"), 2020)` (positional argument for year)\n",
    "* `lab.get_spending(lab.get_idx(\"gyms\"), year = 2020)` (keyword argument for year)\n",
    "* `lab.get_spending(lab.get_idx(\"gyms\"))` (default argument for year)\n",
    "\n",
    "Try each of the above function call in each of the below cells. Make sure to open `madison.csv`, to verify your answers."
   ]
  },
  {
   "cell_type": "code",
   "execution_count": 71,
   "id": "61fd89c4-b57e-4b84-9ec7-3ba183a40dbd",
   "metadata": {},
   "outputs": [
    {
     "data": {
      "text/plain": [
       "55.21500726"
      ]
     },
     "execution_count": 71,
     "metadata": {},
     "output_type": "execute_result"
    }
   ],
   "source": [
    "# Positional arguments always match up with the corresponding \n",
    "# parameters in the exact order of the parameters\n",
    "lab.get_spending(lab.get_idx(\"gyms\"), 2020)"
   ]
  },
  {
   "cell_type": "code",
   "execution_count": 72,
   "id": "26460bab-46c9-4f7e-822e-a10571251192",
   "metadata": {},
   "outputs": [
    {
     "data": {
      "text/plain": [
       "55.21500726"
      ]
     },
     "execution_count": 72,
     "metadata": {},
     "output_type": "execute_result"
    }
   ],
   "source": [
    "lab.get_spending(lab.get_idx(\"gyms\"), year = 2020)"
   ]
  },
  {
   "cell_type": "code",
   "execution_count": 73,
   "id": "3722ec2f-776e-4dc5-8d45-d3818e29c466",
   "metadata": {},
   "outputs": [
    {
     "data": {
      "text/plain": [
       "51.96834048"
      ]
     },
     "execution_count": 73,
     "metadata": {},
     "output_type": "execute_result"
    }
   ],
   "source": [
    "lab.get_spending(lab.get_idx(\"gyms\"))"
   ]
  },
  {
   "cell_type": "markdown",
   "id": "aa1b552b",
   "metadata": {},
   "source": [
    "Keyword arguments cannot come before positional arguments. The below function call should give you an error.\n",
    "Great thing about keyword arguments - your arguments order need not match with the parameters order (in function defintion)."
   ]
  },
  {
   "cell_type": "code",
   "execution_count": 77,
   "id": "ef5dde3c",
   "metadata": {},
   "outputs": [
    {
     "data": {
      "text/plain": [
       "55.21500726"
      ]
     },
     "execution_count": 77,
     "metadata": {},
     "output_type": "execute_result"
    }
   ],
   "source": [
    "# TODO: fix this error by converting the 2nd argument to keyword\n",
    "# Go back and look at help function call output for get_spending function and\n",
    "# find the name of the appropriate parameter\n",
    "# If you are unsure, please get help from TA / PM\n",
    "\n",
    "lab.get_spending(year = 2020, agency_id = 6)\n"
   ]
  },
  {
   "cell_type": "markdown",
   "id": "8243004f",
   "metadata": {},
   "source": [
    "In Python number of arguments should always exactly match the number of parameters, no more and no less.\n",
    "\n",
    "Exception: when parameters have default values, you may chose not to pass arguments to those parameters."
   ]
  },
  {
   "cell_type": "code",
   "execution_count": 81,
   "id": "0a1df309",
   "metadata": {},
   "outputs": [
    {
     "ename": "TypeError",
     "evalue": "get_spending() got multiple values for argument 'year'",
     "output_type": "error",
     "traceback": [
      "\u001b[0;31m---------------------------------------------------------------------------\u001b[0m",
      "\u001b[0;31mTypeError\u001b[0m                                 Traceback (most recent call last)",
      "\u001b[0;32m/var/folders/bp/j6lbgfvx5p14h_sr80tjn08c0000gp/T/ipykernel_87616/49191269.py\u001b[0m in \u001b[0;36m<module>\u001b[0;34m\u001b[0m\n\u001b[1;32m      2\u001b[0m \u001b[0;31m# TODO: tell a TA / PM why this function call gives you error\u001b[0m\u001b[0;34m\u001b[0m\u001b[0;34m\u001b[0m\u001b[0m\n\u001b[1;32m      3\u001b[0m \u001b[0;31m# This function call gives an error because the number of parameters passed is more than the defined one.\u001b[0m\u001b[0;34m\u001b[0m\u001b[0;34m\u001b[0m\u001b[0m\n\u001b[0;32m----> 4\u001b[0;31m \u001b[0mlab\u001b[0m\u001b[0;34m.\u001b[0m\u001b[0mget_spending\u001b[0m\u001b[0;34m(\u001b[0m\u001b[0mlab\u001b[0m\u001b[0;34m.\u001b[0m\u001b[0mget_idx\u001b[0m\u001b[0;34m(\u001b[0m\u001b[0;34m\"schools\"\u001b[0m\u001b[0;34m)\u001b[0m\u001b[0;34m,\u001b[0m \u001b[0;36m2019\u001b[0m\u001b[0;34m,\u001b[0m \u001b[0myear\u001b[0m \u001b[0;34m=\u001b[0m \u001b[0;36m2019\u001b[0m\u001b[0;34m)\u001b[0m\u001b[0;34m\u001b[0m\u001b[0;34m\u001b[0m\u001b[0m\n\u001b[0m",
      "\u001b[0;31mTypeError\u001b[0m: get_spending() got multiple values for argument 'year'"
     ]
    }
   ],
   "source": [
    "# This function call will give you an error\n",
    "# TODO: tell a TA / PM why this function call gives you error\n",
    "# This function call gives an error because the number of parameters passed is more than the defined one.\n",
    "lab.get_spending(lab.get_idx(\"schools\"), 2019, year = 2019)"
   ]
  },
  {
   "cell_type": "markdown",
   "id": "4019d90d-b4a2-4ef4-875d-5895c05e73bd",
   "metadata": {},
   "source": [
    "##### Bad function call examples"
   ]
  },
  {
   "cell_type": "markdown",
   "id": "ceaf01ae",
   "metadata": {},
   "source": [
    "##### What is ID for \"hospitals\"?\n",
    "This data don't exist in `madison.csv`. So clearly, we must get an error."
   ]
  },
  {
   "cell_type": "code",
   "execution_count": 82,
   "id": "0442cd9b",
   "metadata": {},
   "outputs": [
    {
     "ename": "Exception",
     "evalue": "No agency 'hospitals', only these: schools,gyms,restaurants,stores,governments",
     "output_type": "error",
     "traceback": [
      "\u001b[0;31m---------------------------------------------------------------------------\u001b[0m",
      "\u001b[0;31mException\u001b[0m                                 Traceback (most recent call last)",
      "\u001b[0;32m/var/folders/bp/j6lbgfvx5p14h_sr80tjn08c0000gp/T/ipykernel_87616/4032019130.py\u001b[0m in \u001b[0;36m<module>\u001b[0;34m\u001b[0m\n\u001b[0;32m----> 1\u001b[0;31m \u001b[0mlab\u001b[0m\u001b[0;34m.\u001b[0m\u001b[0mget_idx\u001b[0m\u001b[0;34m(\u001b[0m\u001b[0;34m\"hospitals\"\u001b[0m\u001b[0;34m)\u001b[0m\u001b[0;34m\u001b[0m\u001b[0;34m\u001b[0m\u001b[0m\n\u001b[0m",
      "\u001b[0;32m~/Documents/Digital Builder Program/CS220/Labs/lab3/lab.py\u001b[0m in \u001b[0;36mget_idx\u001b[0;34m(agency)\u001b[0m\n\u001b[1;32m     49\u001b[0m         \u001b[0;32mraise\u001b[0m \u001b[0mException\u001b[0m\u001b[0;34m(\u001b[0m\u001b[0;34m\"you did not call init first\"\u001b[0m\u001b[0;34m)\u001b[0m\u001b[0;34m\u001b[0m\u001b[0;34m\u001b[0m\u001b[0m\n\u001b[1;32m     50\u001b[0m     \u001b[0;32mif\u001b[0m \u001b[0;32mnot\u001b[0m \u001b[0magency\u001b[0m \u001b[0;32min\u001b[0m \u001b[0m__agency_to_id\u001b[0m\u001b[0;34m:\u001b[0m\u001b[0;34m\u001b[0m\u001b[0;34m\u001b[0m\u001b[0m\n\u001b[0;32m---> 51\u001b[0;31m         raise Exception(\"No agency '%s', only these: %s\" %\n\u001b[0m\u001b[1;32m     52\u001b[0m                         (str(agency), ','.join(list(__agency_to_id.keys()))))\n\u001b[1;32m     53\u001b[0m     \u001b[0;32mreturn\u001b[0m \u001b[0m__agency_to_id\u001b[0m\u001b[0;34m[\u001b[0m\u001b[0magency\u001b[0m\u001b[0;34m]\u001b[0m\u001b[0;34m\u001b[0m\u001b[0;34m\u001b[0m\u001b[0m\n",
      "\u001b[0;31mException\u001b[0m: No agency 'hospitals', only these: schools,gyms,restaurants,stores,governments"
     ]
    }
   ],
   "source": [
    "lab.get_idx(\"hospitals\")"
   ]
  },
  {
   "cell_type": "markdown",
   "id": "1cd25b82",
   "metadata": {},
   "source": [
    "##### What happens when you have a typo in the name, that is try \"Hospitals\" or \"Hospital\"?\n",
    "Those data don't exist in `madison.csv`. So clearly, we must get an error."
   ]
  },
  {
   "cell_type": "code",
   "execution_count": 84,
   "id": "7db033c3",
   "metadata": {},
   "outputs": [
    {
     "ename": "Exception",
     "evalue": "No agency 'Hospital', only these: schools,gyms,restaurants,stores,governments",
     "output_type": "error",
     "traceback": [
      "\u001b[0;31m---------------------------------------------------------------------------\u001b[0m",
      "\u001b[0;31mException\u001b[0m                                 Traceback (most recent call last)",
      "\u001b[0;32m/var/folders/bp/j6lbgfvx5p14h_sr80tjn08c0000gp/T/ipykernel_87616/2233144047.py\u001b[0m in \u001b[0;36m<module>\u001b[0;34m\u001b[0m\n\u001b[0;32m----> 1\u001b[0;31m \u001b[0mlab\u001b[0m\u001b[0;34m.\u001b[0m\u001b[0mget_idx\u001b[0m\u001b[0;34m(\u001b[0m\u001b[0;34m\"Hospital\"\u001b[0m\u001b[0;34m)\u001b[0m\u001b[0;34m\u001b[0m\u001b[0;34m\u001b[0m\u001b[0m\n\u001b[0m",
      "\u001b[0;32m~/Documents/Digital Builder Program/CS220/Labs/lab3/lab.py\u001b[0m in \u001b[0;36mget_idx\u001b[0;34m(agency)\u001b[0m\n\u001b[1;32m     49\u001b[0m         \u001b[0;32mraise\u001b[0m \u001b[0mException\u001b[0m\u001b[0;34m(\u001b[0m\u001b[0;34m\"you did not call init first\"\u001b[0m\u001b[0;34m)\u001b[0m\u001b[0;34m\u001b[0m\u001b[0;34m\u001b[0m\u001b[0m\n\u001b[1;32m     50\u001b[0m     \u001b[0;32mif\u001b[0m \u001b[0;32mnot\u001b[0m \u001b[0magency\u001b[0m \u001b[0;32min\u001b[0m \u001b[0m__agency_to_id\u001b[0m\u001b[0;34m:\u001b[0m\u001b[0;34m\u001b[0m\u001b[0;34m\u001b[0m\u001b[0m\n\u001b[0;32m---> 51\u001b[0;31m         raise Exception(\"No agency '%s', only these: %s\" %\n\u001b[0m\u001b[1;32m     52\u001b[0m                         (str(agency), ','.join(list(__agency_to_id.keys()))))\n\u001b[1;32m     53\u001b[0m     \u001b[0;32mreturn\u001b[0m \u001b[0m__agency_to_id\u001b[0m\u001b[0;34m[\u001b[0m\u001b[0magency\u001b[0m\u001b[0;34m]\u001b[0m\u001b[0;34m\u001b[0m\u001b[0;34m\u001b[0m\u001b[0m\n",
      "\u001b[0;31mException\u001b[0m: No agency 'Hospital', only these: schools,gyms,restaurants,stores,governments"
     ]
    }
   ],
   "source": [
    "lab.get_idx(\"Hospital\")"
   ]
  },
  {
   "cell_type": "markdown",
   "id": "a69c4ab8",
   "metadata": {},
   "source": [
    "##### Fix hardcoding in the below function calls. Look at the data within `madison.csv` to determine the name, instead of hardcoding the index."
   ]
  },
  {
   "cell_type": "code",
   "execution_count": 87,
   "id": "0868c1e4",
   "metadata": {},
   "outputs": [
    {
     "name": "stdout",
     "output_type": "stream",
     "text": [
      "19.15924328\n",
      "26.65575442\n"
     ]
    }
   ],
   "source": [
    "# Show your answers to a TA / PM\n",
    "# print(lab.get_spending(122, 2018))\n",
    "# print(lab.get_spending(15, 2019))\n",
    "print(lab.get_spending(lab.get_idx(\"stores\"), 2018))\n",
    "print(lab.get_spending(lab.get_idx(\"governments\"), 2019))\n"
   ]
  },
  {
   "cell_type": "markdown",
   "id": "5882b77e",
   "metadata": {},
   "source": [
    "Try out these bad examples for init function call."
   ]
  },
  {
   "cell_type": "code",
   "execution_count": 88,
   "id": "b74d8bf1",
   "metadata": {},
   "outputs": [
    {
     "name": "stdout",
     "output_type": "stream",
     "text": [
      "WARNING!  Opening a path other than madison.csv.  That's fine for testing your code yourself, but madison.csv will be the only file around when we test your code for grading.\n"
     ]
    },
    {
     "ename": "FileNotFoundError",
     "evalue": "[Errno 2] No such file or directory: 'BAD.csv'",
     "output_type": "error",
     "traceback": [
      "\u001b[0;31m---------------------------------------------------------------------------\u001b[0m",
      "\u001b[0;31mFileNotFoundError\u001b[0m                         Traceback (most recent call last)",
      "\u001b[0;32m/var/folders/bp/j6lbgfvx5p14h_sr80tjn08c0000gp/T/ipykernel_87616/2628066654.py\u001b[0m in \u001b[0;36m<module>\u001b[0;34m\u001b[0m\n\u001b[0;32m----> 1\u001b[0;31m \u001b[0mlab\u001b[0m\u001b[0;34m.\u001b[0m\u001b[0minit\u001b[0m\u001b[0;34m(\u001b[0m\u001b[0;34m\"BAD.csv\"\u001b[0m\u001b[0;34m)\u001b[0m\u001b[0;34m\u001b[0m\u001b[0;34m\u001b[0m\u001b[0m\n\u001b[0m",
      "\u001b[0;32m~/Documents/Digital Builder Program/CS220/Labs/lab3/lab.py\u001b[0m in \u001b[0;36minit\u001b[0;34m(path)\u001b[0m\n\u001b[1;32m     23\u001b[0m     \u001b[0m__agency_to_id\u001b[0m \u001b[0;34m=\u001b[0m \u001b[0;34m{\u001b[0m\u001b[0;34m}\u001b[0m\u001b[0;34m\u001b[0m\u001b[0;34m\u001b[0m\u001b[0m\n\u001b[1;32m     24\u001b[0m \u001b[0;34m\u001b[0m\u001b[0m\n\u001b[0;32m---> 25\u001b[0;31m     \u001b[0;32mwith\u001b[0m \u001b[0mopen\u001b[0m\u001b[0;34m(\u001b[0m\u001b[0mpath\u001b[0m\u001b[0;34m)\u001b[0m \u001b[0;32mas\u001b[0m \u001b[0mf\u001b[0m\u001b[0;34m:\u001b[0m\u001b[0;34m\u001b[0m\u001b[0;34m\u001b[0m\u001b[0m\n\u001b[0m\u001b[1;32m     26\u001b[0m         \u001b[0mreader\u001b[0m \u001b[0;34m=\u001b[0m \u001b[0m__DictReader\u001b[0m\u001b[0;34m(\u001b[0m\u001b[0mf\u001b[0m\u001b[0;34m)\u001b[0m\u001b[0;34m\u001b[0m\u001b[0;34m\u001b[0m\u001b[0m\n\u001b[1;32m     27\u001b[0m         \u001b[0;32mfor\u001b[0m \u001b[0mrow\u001b[0m \u001b[0;32min\u001b[0m \u001b[0mreader\u001b[0m\u001b[0;34m:\u001b[0m\u001b[0;34m\u001b[0m\u001b[0;34m\u001b[0m\u001b[0m\n",
      "\u001b[0;31mFileNotFoundError\u001b[0m: [Errno 2] No such file or directory: 'BAD.csv'"
     ]
    }
   ],
   "source": [
    "lab.init(\"BAD.csv\")"
   ]
  },
  {
   "cell_type": "code",
   "execution_count": 89,
   "id": "402097d8",
   "metadata": {},
   "outputs": [
    {
     "name": "stdout",
     "output_type": "stream",
     "text": [
      "WARNING!  Opening a path other than madison.csv.  That's fine for testing your code yourself, but madison.csv will be the only file around when we test your code for grading.\n"
     ]
    },
    {
     "ename": "OSError",
     "evalue": "[Errno 9] Bad file descriptor",
     "output_type": "error",
     "traceback": [
      "\u001b[0;31m---------------------------------------------------------------------------\u001b[0m",
      "\u001b[0;31mOSError\u001b[0m                                   Traceback (most recent call last)",
      "\u001b[0;32m/var/folders/bp/j6lbgfvx5p14h_sr80tjn08c0000gp/T/ipykernel_87616/1755423747.py\u001b[0m in \u001b[0;36m<module>\u001b[0;34m\u001b[0m\n\u001b[0;32m----> 1\u001b[0;31m \u001b[0mlab\u001b[0m\u001b[0;34m.\u001b[0m\u001b[0minit\u001b[0m\u001b[0;34m(\u001b[0m\u001b[0;36m220\u001b[0m\u001b[0;34m)\u001b[0m\u001b[0;34m\u001b[0m\u001b[0;34m\u001b[0m\u001b[0m\n\u001b[0m",
      "\u001b[0;32m~/Documents/Digital Builder Program/CS220/Labs/lab3/lab.py\u001b[0m in \u001b[0;36minit\u001b[0;34m(path)\u001b[0m\n\u001b[1;32m     23\u001b[0m     \u001b[0m__agency_to_id\u001b[0m \u001b[0;34m=\u001b[0m \u001b[0;34m{\u001b[0m\u001b[0;34m}\u001b[0m\u001b[0;34m\u001b[0m\u001b[0;34m\u001b[0m\u001b[0m\n\u001b[1;32m     24\u001b[0m \u001b[0;34m\u001b[0m\u001b[0m\n\u001b[0;32m---> 25\u001b[0;31m     \u001b[0;32mwith\u001b[0m \u001b[0mopen\u001b[0m\u001b[0;34m(\u001b[0m\u001b[0mpath\u001b[0m\u001b[0;34m)\u001b[0m \u001b[0;32mas\u001b[0m \u001b[0mf\u001b[0m\u001b[0;34m:\u001b[0m\u001b[0;34m\u001b[0m\u001b[0;34m\u001b[0m\u001b[0m\n\u001b[0m\u001b[1;32m     26\u001b[0m         \u001b[0mreader\u001b[0m \u001b[0;34m=\u001b[0m \u001b[0m__DictReader\u001b[0m\u001b[0;34m(\u001b[0m\u001b[0mf\u001b[0m\u001b[0;34m)\u001b[0m\u001b[0;34m\u001b[0m\u001b[0;34m\u001b[0m\u001b[0m\n\u001b[1;32m     27\u001b[0m         \u001b[0;32mfor\u001b[0m \u001b[0mrow\u001b[0m \u001b[0;32min\u001b[0m \u001b[0mreader\u001b[0m\u001b[0;34m:\u001b[0m\u001b[0;34m\u001b[0m\u001b[0;34m\u001b[0m\u001b[0m\n",
      "\u001b[0;31mOSError\u001b[0m: [Errno 9] Bad file descriptor"
     ]
    }
   ],
   "source": [
    "lab.init(220)"
   ]
  },
  {
   "cell_type": "code",
   "execution_count": 90,
   "id": "4a803752",
   "metadata": {},
   "outputs": [
    {
     "ename": "TypeError",
     "evalue": "init() missing 1 required positional argument: 'path'",
     "output_type": "error",
     "traceback": [
      "\u001b[0;31m---------------------------------------------------------------------------\u001b[0m",
      "\u001b[0;31mTypeError\u001b[0m                                 Traceback (most recent call last)",
      "\u001b[0;32m/var/folders/bp/j6lbgfvx5p14h_sr80tjn08c0000gp/T/ipykernel_87616/3052196430.py\u001b[0m in \u001b[0;36m<module>\u001b[0;34m\u001b[0m\n\u001b[0;32m----> 1\u001b[0;31m \u001b[0mlab\u001b[0m\u001b[0;34m.\u001b[0m\u001b[0minit\u001b[0m\u001b[0;34m(\u001b[0m\u001b[0;34m)\u001b[0m\u001b[0;34m\u001b[0m\u001b[0;34m\u001b[0m\u001b[0m\n\u001b[0m",
      "\u001b[0;31mTypeError\u001b[0m: init() missing 1 required positional argument: 'path'"
     ]
    }
   ],
   "source": [
    "lab.init()"
   ]
  },
  {
   "cell_type": "markdown",
   "id": "dd8c5795",
   "metadata": {},
   "source": [
    "##### Also, try this bad invocation for dump"
   ]
  },
  {
   "cell_type": "code",
   "execution_count": 91,
   "id": "ece2c85b",
   "metadata": {},
   "outputs": [
    {
     "ename": "TypeError",
     "evalue": "dump() takes 0 positional arguments but 1 was given",
     "output_type": "error",
     "traceback": [
      "\u001b[0;31m---------------------------------------------------------------------------\u001b[0m",
      "\u001b[0;31mTypeError\u001b[0m                                 Traceback (most recent call last)",
      "\u001b[0;32m/var/folders/bp/j6lbgfvx5p14h_sr80tjn08c0000gp/T/ipykernel_87616/577442828.py\u001b[0m in \u001b[0;36m<module>\u001b[0;34m\u001b[0m\n\u001b[0;32m----> 1\u001b[0;31m \u001b[0mlab\u001b[0m\u001b[0;34m.\u001b[0m\u001b[0mdump\u001b[0m\u001b[0;34m(\u001b[0m\u001b[0;32mTrue\u001b[0m\u001b[0;34m)\u001b[0m\u001b[0;34m\u001b[0m\u001b[0;34m\u001b[0m\u001b[0m\n\u001b[0m",
      "\u001b[0;31mTypeError\u001b[0m: dump() takes 0 positional arguments but 1 was given"
     ]
    }
   ],
   "source": [
    "lab.dump(True)"
   ]
  },
  {
   "cell_type": "markdown",
   "id": "6a0dc77f",
   "metadata": {},
   "source": [
    "Now you know how to get the data from `madison.csv` and `lab.csv`."
   ]
  },
  {
   "cell_type": "markdown",
   "id": "b4018a14-b5cc-4ada-8a0c-63395836442c",
   "metadata": {},
   "source": [
    "-------------------------------\n",
    "## Segment 4: Analysing `madison.csv`\n",
    "#### Task 4.1: What is the maximum/minimum spending in 2020 in `madison.csv`?"
   ]
  },
  {
   "cell_type": "markdown",
   "id": "3c08ee5c",
   "metadata": {},
   "source": [
    "To know the maximum value, you should get their spending in 2020 as variables first."
   ]
  },
  {
   "cell_type": "code",
   "execution_count": 93,
   "id": "797b7977",
   "metadata": {},
   "outputs": [
    {
     "name": "stdout",
     "output_type": "stream",
     "text": [
      "governments [ID 15]\n",
      "  2017: $25.368880 MILLION\n",
      "  2018: $28.228622 MILLION\n",
      "  2019: $26.655754 MILLION\n",
      "  2020: $27.798934 MILLION\n",
      "\n",
      "gyms    [ID 6]\n",
      "  2017: $49.737579 MILLION\n",
      "  2018: $51.968340 MILLION\n",
      "  2019: $53.144053 MILLION\n",
      "  2020: $55.215007 MILLION\n",
      "\n",
      "restaurants [ID 7]\n",
      "  2017: $16.965434 MILLION\n",
      "  2018: $18.125521 MILLION\n",
      "  2019: $19.136348 MILLION\n",
      "  2020: $19.845066 MILLION\n",
      "\n",
      "schools [ID 3]\n",
      "  2017: $68.063469 MILLION\n",
      "  2018: $71.325756 MILLION\n",
      "  2019: $73.247948 MILLION\n",
      "  2020: $77.875535 MILLION\n",
      "\n",
      "stores  [ID 122]\n",
      "  2017: $18.371421 MILLION\n",
      "  2018: $19.159243 MILLION\n",
      "  2019: $19.316837 MILLION\n",
      "  2020: $19.760710 MILLION\n",
      "\n"
     ]
    }
   ],
   "source": [
    "# TODO: Call init function to load data from \"madison.csv\"\n",
    "\n",
    "# Verify that dump() function is displaying data from \"madison.csv\"\n",
    "\n",
    "lab.init(\"madison.csv\")\n",
    "lab.dump()"
   ]
  },
  {
   "cell_type": "code",
   "execution_count": 94,
   "id": "9fb9bfde-c81e-4371-b19b-ba50d2852405",
   "metadata": {},
   "outputs": [],
   "source": [
    "# TODO: complete the missing code\n",
    "schools_spending = lab.get_spending(lab.get_idx(\"schools\"), 2020)\n",
    "gyms_spending = lab.get_spending(lab.get_idx(\"gyms\"), 2020)\n",
    "restaurants_spending = lab.get_spending(lab.get_idx(\"restaurants\"), 2020)\n",
    "stores_spending = lab.get_spending(lab.get_idx(\"stores\"), 2020)\n",
    "governments_spending = lab.get_spending(lab.get_idx(\"governments\"), 2020)"
   ]
  },
  {
   "cell_type": "markdown",
   "id": "dbf3cd4e",
   "metadata": {},
   "source": [
    "Using these five variables, you can find the maximum value by using max function."
   ]
  },
  {
   "cell_type": "code",
   "execution_count": 95,
   "id": "ec6f165f-3ee8-4b24-b5ba-ad0d9a63a438",
   "metadata": {},
   "outputs": [
    {
     "data": {
      "text/plain": [
       "77.87553504"
      ]
     },
     "execution_count": 95,
     "metadata": {},
     "output_type": "execute_result"
    }
   ],
   "source": [
    "max_value = max(schools_spending, gyms_spending, restaurants_spending, stores_spending, governments_spending)\n",
    "max_value"
   ]
  },
  {
   "cell_type": "code",
   "execution_count": 96,
   "id": "22c98aeb-a189-4b3a-b184-c7d7738e7f17",
   "metadata": {},
   "outputs": [
    {
     "data": {
      "text/plain": [
       "19.76071"
      ]
     },
     "execution_count": 96,
     "metadata": {},
     "output_type": "execute_result"
    }
   ],
   "source": [
    "min_value = min(schools_spending, gyms_spending, restaurants_spending, stores_spending, governments_spending)\n",
    "min_value"
   ]
  },
  {
   "cell_type": "markdown",
   "id": "62f07be3-9b8a-4add-9543-fc819a23a316",
   "metadata": {},
   "source": [
    "#### Task 4.2: What is the change rate of schools between 2017 and 2020 in `madison.csv`?"
   ]
  },
  {
   "cell_type": "code",
   "execution_count": 98,
   "id": "105339dc-7311-4f51-ba0e-d4c63985378b",
   "metadata": {},
   "outputs": [
    {
     "name": "stdout",
     "output_type": "stream",
     "text": [
      "68.06346877\n",
      "77.87553504\n"
     ]
    }
   ],
   "source": [
    "## TODO: Find the spending in two years first.\n",
    "\n",
    "schools_spending_17 = lab.get_spending(lab.get_idx(\"schools\"), 2017)\n",
    "schools_spending_20 = lab.get_spending(lab.get_idx(\"schools\"), 2020)\n",
    "\n",
    "# Incremental coding is always a good practice\n",
    "# Use print function call to display each of these variables\n",
    "\n",
    "print(schools_spending_17)\n",
    "print(schools_spending_20)"
   ]
  },
  {
   "cell_type": "code",
   "execution_count": 99,
   "id": "789fe22c",
   "metadata": {},
   "outputs": [
    {
     "data": {
      "text/plain": [
       "3.2706887566666674"
      ]
     },
     "execution_count": 99,
     "metadata": {},
     "output_type": "execute_result"
    }
   ],
   "source": [
    "## TODO: Then we can calculate the change rate using the code below.\n",
    "change_rate = get_change_per_year(2017, schools_spending_17, 2020, schools_spending_20) # call the function you wrote in Segment 2\n",
    "change_rate"
   ]
  },
  {
   "cell_type": "markdown",
   "id": "b2fa4e5b",
   "metadata": {},
   "source": [
    "You should get 3.2706887566666674. Change rate is positive, it shows that the spending of schools increased between 2017 and 2020. Notice that in this case, \"schools\" is hardcoded. What if we want to be able to calculate the change rate for any arbitrary agency? Let's practice how to create a function that takes an agency as a parameter."
   ]
  },
  {
   "cell_type": "code",
   "execution_count": 102,
   "id": "033d8e5e-9f8d-4e29-9cdc-296871969980",
   "metadata": {},
   "outputs": [],
   "source": [
    "## Let's make a new function with agency as one of the parameters\n",
    "## TODO: How many parameters in the below function have default values? \n",
    "#        Verify your answer with a TA / PM\n",
    "## TODO: complete the missing code based on the code in the previous two input cells\n",
    "def change_rate_function(agency, start_year = 2017, end_year = 2020):\n",
    "    start_year_spending = lab.get_spending(lab.get_idx(agency), start_year)\n",
    "    end_year_spending = lab.get_spending(lab.get_idx(agency), end_year)\n",
    "    change_rate = (end_year_spending - start_year_spending) / (end_year - start_year)\n",
    "    return change_rate"
   ]
  },
  {
   "cell_type": "code",
   "execution_count": 103,
   "id": "f1b73d95-866c-4403-bc92-19432ef2452e",
   "metadata": {},
   "outputs": [
    {
     "data": {
      "text/plain": [
       "1.1757128399999957"
      ]
     },
     "execution_count": 103,
     "metadata": {},
     "output_type": "execute_result"
    }
   ],
   "source": [
    "change_rate_function(\"gyms\", 2018, 2019) # expected: 1.1757128399999957"
   ]
  },
  {
   "cell_type": "code",
   "execution_count": 104,
   "id": "5b59d70a-ce4e-49c4-b341-e305174ba727",
   "metadata": {},
   "outputs": [
    {
     "data": {
      "text/plain": [
       "1.1600871399999981"
      ]
     },
     "execution_count": 104,
     "metadata": {},
     "output_type": "execute_result"
    }
   ],
   "source": [
    "change_rate_function(\"restaurants\", 2017, 2018) # expected: 1.1600871399999981"
   ]
  },
  {
   "cell_type": "markdown",
   "id": "e6581f36-3232-4a82-805d-4485d9a059b7",
   "metadata": {},
   "source": [
    "-------------------------------\n",
    "## Congrats! Now you are ready to start p3."
   ]
  }
 ],
 "metadata": {
  "kernelspec": {
   "display_name": "Python 3 (ipykernel)",
   "language": "python",
   "name": "python3"
  },
  "language_info": {
   "codemirror_mode": {
    "name": "ipython",
    "version": 3
   },
   "file_extension": ".py",
   "mimetype": "text/x-python",
   "name": "python",
   "nbconvert_exporter": "python",
   "pygments_lexer": "ipython3",
   "version": "3.9.7"
  }
 },
 "nbformat": 4,
 "nbformat_minor": 5
}
