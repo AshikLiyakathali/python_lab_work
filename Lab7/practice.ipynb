{
 "cells": [
  {
   "cell_type": "markdown",
   "id": "bf8001ac",
   "metadata": {},
   "source": [
    "# Lab-P7: Analyzing Covid Vaccination Data"
   ]
  },
  {
   "cell_type": "code",
   "execution_count": 1,
   "id": "abe012ad",
   "metadata": {},
   "outputs": [],
   "source": [
    "## Please make sure \"vaccinations.csv\" is in your \"lab7\" folder.\n",
    "\n",
    "import csv\n",
    "import datetime\n"
   ]
  },
  {
   "cell_type": "markdown",
   "id": "6926bf1f",
   "metadata": {},
   "source": [
    "## Segment 2: Loading Data from CSVs"
   ]
  },
  {
   "cell_type": "markdown",
   "id": "29301c84",
   "metadata": {},
   "source": [
    "### Task 2.1: Process the CSV file\n",
    "[Chapter 14](https://automatetheboringstuff.com/chapter14/) of Automate the Boring Stuff introduces CSV files and provides a code snippet we can reuse. We will use the same code we used for p6 to read in the csv file."
   ]
  },
  {
   "cell_type": "code",
   "execution_count": 2,
   "id": "289f8744",
   "metadata": {},
   "outputs": [],
   "source": [
    "def process_csv(filename):\n",
    "    example_file = open(filename, encoding=\"utf-8\")\n",
    "    example_reader = csv.reader(example_file)\n",
    "    example_data = list(example_reader)\n",
    "    example_file.close()\n",
    "    return example_data\n"
   ]
  },
  {
   "cell_type": "code",
   "execution_count": 3,
   "id": "1ed0fa25",
   "metadata": {},
   "outputs": [],
   "source": [
    "# Use process_csv to pull out the header and data rows\n",
    "\n",
    "csv_rows = process_csv(\"vaccinations.csv\")\n",
    "\n",
    "# Use indexing to extract the first inner list\n",
    "\n",
    "csv_header = csv_rows[0]\n",
    "\n",
    "# Use slicing to extract all the inner lists, except the first one\n",
    "\n",
    "csv_data = csv_rows[1:]\n"
   ]
  },
  {
   "cell_type": "code",
   "execution_count": 4,
   "id": "1900e2b3",
   "metadata": {},
   "outputs": [
    {
     "data": {
      "text/plain": [
       "['country',\n",
       " 'date',\n",
       " 'daily_vaccinations',\n",
       " 'total_vaccinations',\n",
       " 'people_vaccinated',\n",
       " 'people_fully_vaccinated',\n",
       " 'total_boosters',\n",
       " 'population']"
      ]
     },
     "execution_count": 4,
     "metadata": {},
     "output_type": "execute_result"
    }
   ],
   "source": [
    "# Question: What are the names of the columns in the dataset?\n",
    "# We did this one for you:\n",
    "\n",
    "csv_header\n"
   ]
  },
  {
   "cell_type": "code",
   "execution_count": 5,
   "id": "20dd44fd",
   "metadata": {},
   "outputs": [
    {
     "name": "stdout",
     "output_type": "stream",
     "text": [
      "Expected: 1218 \t Actual: 1218\n"
     ]
    }
   ],
   "source": [
    "# Question: How many rows of data (excluding header) are present in the dataset?\n",
    "# Fill in the blank\n",
    "\n",
    "print(\"Expected: 1218 \\t Actual:\", len(csv_data))\n"
   ]
  },
  {
   "cell_type": "markdown",
   "id": "110dcf74",
   "metadata": {},
   "source": [
    "### About the dataset\n",
    "The `vaccinations.csv` file has vaccination data about 174 different countries in the last week of January 2022. Each row in the file contains the following information about a country on a specific date:"
   ]
  },
  {
   "cell_type": "markdown",
   "id": "3933871e",
   "metadata": {},
   "source": [
    "1. `daily_vaccinations` - Number of vaccines administered on that day\n",
    "2. `total_vaccinations` - Total number of vaccines administered in total up to that day\n",
    "3. `people_vaccinated` - Total number of people who have received at least one dose of the vaccine.\n",
    "4. `people_fully_vaccinated` - Total number of people who have received two doses of the vaccine.\n",
    "5. `total_boosters` - Total number of COVID-19 vaccination booster doses administered (doses administered beyond the number prescribed by the vaccination protocol).\n",
    "6. `population` - Population of the country\n",
    "\n",
    "<b>Note:</b> Keep in mind while writing your project, some entries may be missing data for specific columns. Sadly, data in real life is often messy, and in p7, we will have to deal with missing data.\n",
    "\n"
   ]
  },
  {
   "cell_type": "markdown",
   "id": "5a9fde4d",
   "metadata": {},
   "source": [
    "### Task 2.2: Modify the cell function from p6 to work with vaccinations.csv\n",
    "The vaccination data is formatted similarly to the airbnb data from p6. Modify the cell() function you wrote in p6 so that it correctly converts the data into the correct types. Keep in mind that:\n",
    "\n",
    "1. `daily_vaccinations` - should be an int\n",
    "2. `total_vaccinations` - should be an int\n",
    "3. `people_vaccinated` - should be an int\n",
    "4. `people_fully_vaccinated` - should be an int\n",
    "5. `total_boosters` - should be an int\n",
    "6. `population` - should be an int\n",
    "7. `date` - should be a string\n",
    "8. `country` - should be a string"
   ]
  },
  {
   "cell_type": "code",
   "execution_count": 6,
   "id": "8ccff314",
   "metadata": {},
   "outputs": [],
   "source": [
    "def cell(row_idx, col_name):\n",
    "    \"\"\"\n",
    "    Returns the data value (cell) corresponding to the row index and \n",
    "    the column name of a CSV file.\n",
    "    \"\"\"\n",
    "    col_idx = csv_header.index(col_name)\n",
    "    val = csv_data[row_idx][col_idx]\n",
    "    \n",
    "    int_list = ['daily_vaccinations', 'total_vaccinations', 'people_vaccinated', \\\n",
    "                'people_fully_vaccinated', 'total_boosters', 'population']\n",
    "    \n",
    "    if val == \"\": # this is how we handle a missing value in the dataset\n",
    "        return None\n",
    "    \n",
    "    elif col_name in int_list:\n",
    "        return int(val)  # TODO: make sure the function returns val with the appropriate type\n",
    "    \n",
    "    return val\n"
   ]
  },
  {
   "cell_type": "code",
   "execution_count": 7,
   "id": "9b86efd5",
   "metadata": {},
   "outputs": [
    {
     "name": "stdout",
     "output_type": "stream",
     "text": [
      "Expected: Afghanistan with type string \t Actual: Afghanistan <class 'str'>\n"
     ]
    }
   ],
   "source": [
    "# Test out your implementation:\n",
    "\n",
    "print(\"Expected: Afghanistan with type string \\t Actual:\", cell(0, \"country\"), type(cell(0, \"country\")))\n"
   ]
  },
  {
   "cell_type": "code",
   "execution_count": 8,
   "id": "8e450d49",
   "metadata": {},
   "outputs": [
    {
     "name": "stdout",
     "output_type": "stream",
     "text": [
      "Expected: 30887 with type int \t Actual: 30887 <class 'int'>\n"
     ]
    }
   ],
   "source": [
    "# Test out your implementation\n",
    "\n",
    "print(\"Expected: 30887 with type int \\t Actual:\", cell(66, \"daily_vaccinations\"), \\\n",
    "      type(cell(66, \"daily_vaccinations\")))\n"
   ]
  },
  {
   "cell_type": "markdown",
   "id": "1ae531f1",
   "metadata": {},
   "source": [
    "## Segment 3: Dictionaries"
   ]
  },
  {
   "cell_type": "markdown",
   "id": "efd8ed78",
   "metadata": {},
   "source": [
    "### Task 3.1: Use a dictionary to organize the booster data by country.\n",
    "In this task, you will create a dictionary whose keys are country names, and the corresponding values are the total number of booster shots administered for that country. Note that we don't have booster data for many countries, so some values in the dictionary should be None.\n"
   ]
  },
  {
   "cell_type": "code",
   "execution_count": 9,
   "id": "21b89eae",
   "metadata": {},
   "outputs": [
    {
     "data": {
      "text/plain": [
       "{'Afghanistan': None,\n",
       " 'Albania': None,\n",
       " 'Angola': None,\n",
       " 'Anguilla': None,\n",
       " 'Antigua and Barbuda': None,\n",
       " 'Argentina': 12868208,\n",
       " 'Armenia': None,\n",
       " 'Aruba': None,\n",
       " 'Austria': None,\n",
       " 'Azerbaijan': 2028205,\n",
       " 'Bahamas': None,\n",
       " 'Bahrain': 939199,\n",
       " 'Bangladesh': None,\n",
       " 'Barbados': None,\n",
       " 'Belarus': None,\n",
       " 'Belgium': 6580264,\n",
       " 'Belize': None,\n",
       " 'Bermuda': None,\n",
       " 'Bhutan': None,\n",
       " 'Bolivia': 879174,\n",
       " 'Bosnia and Herzegovina': None,\n",
       " 'Brazil': 47268419,\n",
       " 'British Virgin Islands': None,\n",
       " 'Brunei': None,\n",
       " 'Bulgaria': 611314,\n",
       " 'Cambodia': 6083677,\n",
       " 'Canada': 15516481,\n",
       " 'Cayman Islands': None,\n",
       " 'Central African Republic': None,\n",
       " 'Chad': None,\n",
       " 'Chile': 12713482,\n",
       " 'China': None,\n",
       " 'Colombia': 5715017,\n",
       " 'Comoros': None,\n",
       " 'Costa Rica': 579075,\n",
       " \"Cote d'Ivoire\": None,\n",
       " 'Croatia': None,\n",
       " 'Cuba': 5358553,\n",
       " 'Curacao': 36730,\n",
       " 'Cyprus': 404293,\n",
       " 'Czechia': 3754377,\n",
       " 'Democratic Republic of Congo': None,\n",
       " 'Denmark': 3566714,\n",
       " 'Djibouti': None,\n",
       " 'Dominica': None,\n",
       " 'Dominican Republic': 1948527,\n",
       " 'Ecuador': 2606196,\n",
       " 'Egypt': None,\n",
       " 'El Salvador': None,\n",
       " 'England': 31212302,\n",
       " 'Estonia': 415941,\n",
       " 'Eswatini': None,\n",
       " 'Ethiopia': None,\n",
       " 'Faeroe Islands': 20689,\n",
       " 'Fiji': None,\n",
       " 'Finland': 2485236,\n",
       " 'France': 32568810,\n",
       " 'Georgia': None,\n",
       " 'Germany': 44242612,\n",
       " 'Gibraltar': None,\n",
       " 'Greece': 4822114,\n",
       " 'Greenland': None,\n",
       " 'Grenada': None,\n",
       " 'Guatemala': 1237216,\n",
       " 'Guernsey': None,\n",
       " 'Guinea': None,\n",
       " 'Guinea-Bissau': None,\n",
       " 'Guyana': 38916,\n",
       " 'Haiti': None,\n",
       " 'Hong Kong': 954017,\n",
       " 'Hungary': 3688593,\n",
       " 'Iceland': None,\n",
       " 'India': 11831877,\n",
       " 'Indonesia': None,\n",
       " 'Iran': 17315831,\n",
       " 'Iraq': None,\n",
       " 'Ireland': 2715001,\n",
       " 'Isle of Man': None,\n",
       " 'Israel': 5093911,\n",
       " 'Italy': 33574384,\n",
       " 'Jamaica': 20540,\n",
       " 'Japan': 4480214,\n",
       " 'Jersey': None,\n",
       " 'Jordan': None,\n",
       " 'Kazakhstan': None,\n",
       " 'Kenya': 148697,\n",
       " 'Kosovo': 78116,\n",
       " 'Kuwait': None,\n",
       " 'Kyrgyzstan': None,\n",
       " 'Latvia': 447128,\n",
       " 'Lebanon': 444900,\n",
       " 'Libya': None,\n",
       " 'Liechtenstein': 17398,\n",
       " 'Lithuania': 885786,\n",
       " 'Luxembourg': 336739,\n",
       " 'Macao': 73660,\n",
       " 'Malawi': None,\n",
       " 'Malaysia': 12021434,\n",
       " 'Maldives': 75884,\n",
       " 'Malta': 331055,\n",
       " 'Mexico': None,\n",
       " 'Moldova': None,\n",
       " 'Mongolia': 1006640,\n",
       " 'Montenegro': 89310,\n",
       " 'Montserrat': None,\n",
       " 'Morocco': None,\n",
       " 'Mozambique': None,\n",
       " 'Myanmar': None,\n",
       " 'Namibia': None,\n",
       " 'Nepal': None,\n",
       " 'Netherlands': None,\n",
       " 'New Caledonia': None,\n",
       " 'New Zealand': 1362503,\n",
       " 'Nicaragua': None,\n",
       " 'Niger': None,\n",
       " 'Nigeria': None,\n",
       " 'North Macedonia': None,\n",
       " 'Northern Ireland': 941710,\n",
       " 'Norway': 2701594,\n",
       " 'Oman': None,\n",
       " 'Pakistan': None,\n",
       " 'Panama': 935762,\n",
       " 'Papua New Guinea': None,\n",
       " 'Paraguay': None,\n",
       " 'Peru': 7934675,\n",
       " 'Philippines': 7502081,\n",
       " 'Poland': 10267126,\n",
       " 'Portugal': 5070946,\n",
       " 'Qatar': None,\n",
       " 'Romania': None,\n",
       " 'Russia': 10107949,\n",
       " 'Rwanda': None,\n",
       " 'Saint Kitts and Nevis': None,\n",
       " 'Saint Lucia': None,\n",
       " 'Saint Vincent and the Grenadines': 2397,\n",
       " 'San Marino': None,\n",
       " 'Saudi Arabia': 8066731,\n",
       " 'Scotland': 3299180,\n",
       " 'Serbia': 1823386,\n",
       " 'Sierra Leone': None,\n",
       " 'Singapore': 3165679,\n",
       " 'Sint Maarten (Dutch part)': None,\n",
       " 'Slovakia': None,\n",
       " 'Slovenia': 590751,\n",
       " 'Solomon Islands': None,\n",
       " 'South Africa': 594479,\n",
       " 'South Korea': 27275983,\n",
       " 'South Sudan': None,\n",
       " 'Spain': 21664977,\n",
       " 'Sri Lanka': 5200047,\n",
       " 'Sudan': None,\n",
       " 'Suriname': None,\n",
       " 'Sweden': None,\n",
       " 'Switzerland': 3426981,\n",
       " 'Taiwan': None,\n",
       " 'Tajikistan': None,\n",
       " 'Thailand': 15655446,\n",
       " 'Timor': None,\n",
       " 'Trinidad and Tobago': None,\n",
       " 'Tunisia': 1033173,\n",
       " 'Turkey': 32159248,\n",
       " 'Uganda': None,\n",
       " 'Ukraine': 373273,\n",
       " 'United Arab Emirates': None,\n",
       " 'United Kingdom': 37342083,\n",
       " 'United States': 89474239,\n",
       " 'Uruguay': 1832833,\n",
       " 'Uzbekistan': None,\n",
       " 'Venezuela': None,\n",
       " 'Vietnam': None,\n",
       " 'Wales': 1888891,\n",
       " 'Yemen': None,\n",
       " 'Zambia': None,\n",
       " 'Zimbabwe': 62131}"
      ]
     },
     "execution_count": 9,
     "metadata": {},
     "output_type": "execute_result"
    }
   ],
   "source": [
    "boosters = {} #key: country name, value: total boosters\n",
    "\n",
    "for row_idx in range(len(csv_data)):\n",
    "    country = cell(row_idx, \"country\")\n",
    "    total_boosted = cell(row_idx, \"total_boosters\")\n",
    "                         \n",
    "    if country not in boosters:\n",
    "        boosters[country] = None # Initial place holder for country, we will replace this using next condition\n",
    "    \n",
    "    if boosters[country] == None or country in boosters: # TODO: check that the booster data is not missing\n",
    "        boosters[country] = total_boosted # TODO: add the key-value pair to the dict\n",
    "\n",
    "boosters\n",
    "        "
   ]
  },
  {
   "cell_type": "code",
   "execution_count": 10,
   "id": "dfb53e61",
   "metadata": {},
   "outputs": [
    {
     "name": "stdout",
     "output_type": "stream",
     "text": [
      "Expected: 89474239\t Actual: 89474239\n"
     ]
    }
   ],
   "source": [
    "# Test your implementation here:\n",
    "\n",
    "print(\"Expected: 89474239\\t Actual:\", boosters['United States'])\n"
   ]
  },
  {
   "cell_type": "code",
   "execution_count": 11,
   "id": "70e9c4ea",
   "metadata": {},
   "outputs": [
    {
     "name": "stdout",
     "output_type": "stream",
     "text": [
      "Expected: None\t Actual: None\n"
     ]
    }
   ],
   "source": [
    "print(\"Expected: None\\t Actual:\", boosters['Armenia'])\n"
   ]
  },
  {
   "cell_type": "markdown",
   "id": "913f15cc",
   "metadata": {},
   "source": [
    "### Task 3.2: Improve the dictionary so that it uses the most recent vaccination data that is not missing\n",
    "You may have noticed that there are missing entries in the data. For example, for Bosnia and Herzegovina, the data is missing from Jan 30. So, for Jan 30 to Jan 31, we will use the data from Jan 29 which is the most recent day before Jan 30.\n",
    "\n",
    "<img src=\"https://github.com/msyamkumar/cs220-s22-projects/raw/main/lab-p7/images/bosniaherzegovina.png/\" width=\"600\">\n",
    "\n",
    "For other countries such as Rwanda, the data is only available on and after Jan 27. However, for Jan 25 to Jan 26, we don't have any information available. Therefore, we will set the values to None for Jan 25 to Jan 26.\n",
    "\n",
    "<img src=\"https://github.com/msyamkumar/cs220-s22-projects/raw/main/lab-p7/images/rwanda.png/\" width=\"600\">\n",
    "\n",
    "\n",
    "Fill in the stencil below to create a dictionary that maps country name to the most recent data in the given column `col_name`. Your answer should be a dict mapping each country to the last date for which the column data is not missing. For countries that have data missing on all seven days, the value should be None. You might find the `get_number_of_days` function from p5 useful here to check if the date is on or before the given date, so we have copied it below."
   ]
  },
  {
   "cell_type": "code",
   "execution_count": 23,
   "id": "2eee5688",
   "metadata": {},
   "outputs": [
    {
     "data": {
      "text/plain": [
       "-3"
      ]
     },
     "execution_count": 23,
     "metadata": {},
     "output_type": "execute_result"
    }
   ],
   "source": [
    "def get_number_of_days(start_date, end_date):\n",
    "    \n",
    "    \"\"\"Gets the number of days between the start_date and end_date\"\"\"\n",
    "    \n",
    "    # The second argument is a format string to tell the function how to process the date string\n",
    "    \n",
    "    day1 = datetime.datetime.strptime(start_date, '%m/%d/%Y') \n",
    "    day2 = datetime.datetime.strptime(end_date, '%m/%d/%Y')\n",
    "    \n",
    "    delta = day2 - day1\n",
    "    \n",
    "    return delta.days\n",
    "\n",
    "get_number_of_days(\"01/25/2022\", \"01/22/2022\")"
   ]
  },
  {
   "cell_type": "code",
   "execution_count": 34,
   "id": "089d39bc",
   "metadata": {},
   "outputs": [
    {
     "data": {
      "text/plain": [
       "{'Afghanistan': 6868,\n",
       " 'Albania': None,\n",
       " 'Angola': None,\n",
       " 'Anguilla': None,\n",
       " 'Antigua and Barbuda': None,\n",
       " 'Argentina': None,\n",
       " 'Armenia': None,\n",
       " 'Aruba': None,\n",
       " 'Austria': None,\n",
       " 'Azerbaijan': 29515,\n",
       " 'Bahamas': None,\n",
       " 'Bahrain': 2827,\n",
       " 'Bangladesh': 1414487,\n",
       " 'Barbados': 194,\n",
       " 'Belarus': None,\n",
       " 'Belgium': 42940,\n",
       " 'Belize': None,\n",
       " 'Bermuda': None,\n",
       " 'Bhutan': None,\n",
       " 'Bolivia': 50562,\n",
       " 'Bosnia and Herzegovina': None,\n",
       " 'Brazil': 1656940,\n",
       " 'British Virgin Islands': None,\n",
       " 'Brunei': None,\n",
       " 'Bulgaria': 12621,\n",
       " 'Cambodia': 79450,\n",
       " 'Canada': 259273,\n",
       " 'Cayman Islands': None,\n",
       " 'Central African Republic': None,\n",
       " 'Chad': None,\n",
       " 'Chile': 71298,\n",
       " 'China': 5425000,\n",
       " 'Colombia': 245216,\n",
       " 'Comoros': None,\n",
       " 'Costa Rica': None,\n",
       " \"Cote d'Ivoire\": None,\n",
       " 'Croatia': 9458,\n",
       " 'Cuba': 99338,\n",
       " 'Curacao': None,\n",
       " 'Cyprus': 2596,\n",
       " 'Czechia': 39833,\n",
       " 'Democratic Republic of Congo': None,\n",
       " 'Denmark': 12265,\n",
       " 'Djibouti': None,\n",
       " 'Dominica': None,\n",
       " 'Dominican Republic': 50037,\n",
       " 'Ecuador': 66792,\n",
       " 'Egypt': None,\n",
       " 'El Salvador': 13099,\n",
       " 'England': 82765,\n",
       " 'Estonia': 3275,\n",
       " 'Eswatini': None,\n",
       " 'Ethiopia': None,\n",
       " 'Faeroe Islands': None,\n",
       " 'Fiji': None,\n",
       " 'Finland': 37696,\n",
       " 'France': 269757,\n",
       " 'Georgia': 18717,\n",
       " 'Germany': 506437,\n",
       " 'Gibraltar': None,\n",
       " 'Greece': 41770,\n",
       " 'Greenland': 14,\n",
       " 'Grenada': None,\n",
       " 'Guatemala': 63520,\n",
       " 'Guernsey': None,\n",
       " 'Guinea': None,\n",
       " 'Guinea-Bissau': None,\n",
       " 'Guyana': None,\n",
       " 'Haiti': None,\n",
       " 'Hong Kong': 49436,\n",
       " 'Hungary': None,\n",
       " 'Iceland': None,\n",
       " 'India': 2929184,\n",
       " 'Indonesia': None,\n",
       " 'Iran': None,\n",
       " 'Iraq': None,\n",
       " 'Ireland': 8365,\n",
       " 'Isle of Man': None,\n",
       " 'Israel': 12578,\n",
       " 'Italy': 518783,\n",
       " 'Jamaica': None,\n",
       " 'Japan': 299098,\n",
       " 'Jersey': None,\n",
       " 'Jordan': None,\n",
       " 'Kazakhstan': 21680,\n",
       " 'Kenya': 73496,\n",
       " 'Kosovo': 4624,\n",
       " 'Kuwait': None,\n",
       " 'Kyrgyzstan': 11680,\n",
       " 'Latvia': 6548,\n",
       " 'Lebanon': 13726,\n",
       " 'Libya': None,\n",
       " 'Liechtenstein': 0,\n",
       " 'Lithuania': 7383,\n",
       " 'Luxembourg': 3735,\n",
       " 'Macao': 2071,\n",
       " 'Malawi': 1653,\n",
       " 'Malaysia': 208593,\n",
       " 'Maldives': 3614,\n",
       " 'Malta': 2291,\n",
       " 'Mexico': 2847440,\n",
       " 'Moldova': 7673,\n",
       " 'Mongolia': 2680,\n",
       " 'Montenegro': None,\n",
       " 'Montserrat': None,\n",
       " 'Morocco': 51870,\n",
       " 'Mozambique': None,\n",
       " 'Myanmar': None,\n",
       " 'Namibia': None,\n",
       " 'Nepal': None,\n",
       " 'Netherlands': None,\n",
       " 'New Caledonia': None,\n",
       " 'New Zealand': 64380,\n",
       " 'Nicaragua': None,\n",
       " 'Niger': None,\n",
       " 'Nigeria': None,\n",
       " 'North Macedonia': None,\n",
       " 'Northern Ireland': 3451,\n",
       " 'Norway': 49870,\n",
       " 'Oman': None,\n",
       " 'Pakistan': None,\n",
       " 'Panama': 438,\n",
       " 'Papua New Guinea': None,\n",
       " 'Paraguay': None,\n",
       " 'Peru': 115288,\n",
       " 'Philippines': 578732,\n",
       " 'Poland': 134871,\n",
       " 'Portugal': 74483,\n",
       " 'Qatar': 38625,\n",
       " 'Romania': 20204,\n",
       " 'Russia': 415633,\n",
       " 'Rwanda': None,\n",
       " 'Saint Kitts and Nevis': None,\n",
       " 'Saint Lucia': None,\n",
       " 'Saint Vincent and the Grenadines': None,\n",
       " 'San Marino': None,\n",
       " 'Saudi Arabia': 262597,\n",
       " 'Scotland': 8134,\n",
       " 'Serbia': None,\n",
       " 'Sierra Leone': None,\n",
       " 'Singapore': 30785,\n",
       " 'Sint Maarten (Dutch part)': None,\n",
       " 'Slovakia': None,\n",
       " 'Slovenia': 4520,\n",
       " 'Solomon Islands': None,\n",
       " 'South Africa': 76213,\n",
       " 'South Korea': 350296,\n",
       " 'South Sudan': None,\n",
       " 'Spain': 209621,\n",
       " 'Sri Lanka': 85652,\n",
       " 'Sudan': None,\n",
       " 'Suriname': None,\n",
       " 'Sweden': None,\n",
       " 'Switzerland': 31161,\n",
       " 'Taiwan': 346077,\n",
       " 'Tajikistan': None,\n",
       " 'Thailand': 487568,\n",
       " 'Timor': None,\n",
       " 'Trinidad and Tobago': 2185,\n",
       " 'Tunisia': 9161,\n",
       " 'Turkey': 164628,\n",
       " 'Uganda': None,\n",
       " 'Ukraine': 81098,\n",
       " 'United Arab Emirates': 39956,\n",
       " 'United Kingdom': 98610,\n",
       " 'United States': 749316,\n",
       " 'Uruguay': 24215,\n",
       " 'Uzbekistan': None,\n",
       " 'Venezuela': None,\n",
       " 'Vietnam': None,\n",
       " 'Wales': 4260,\n",
       " 'Yemen': None,\n",
       " 'Zambia': 14333,\n",
       " 'Zimbabwe': 9455}"
      ]
     },
     "execution_count": 34,
     "metadata": {},
     "output_type": "execute_result"
    }
   ],
   "source": [
    "def most_recent_total(col_name, given_date):\n",
    "    \n",
    "    '''return a dictionary mapping each country to the most recent column value in the data \n",
    "    available by the given date; if no data is available, the value is None.'''\n",
    "    \n",
    "    country_info = {}\n",
    "                \n",
    "    for row_idx in range(len(csv_data)):\n",
    "        country = cell(row_idx, \"country\")\n",
    "        date = cell(row_idx, \"date\")\n",
    "        col_value = cell(row_idx, col_name)\n",
    "        date_diff = get_number_of_days(date, given_date)\n",
    "                \n",
    "        if country not in country_info:\n",
    "            country_info[country] = col_value\n",
    "        \n",
    "        if col_value != None and date_diff >= 0:    \n",
    "            country_info[country] = col_value\n",
    "\n",
    "    return country_info\n",
    "\n",
    "most_recent_total(\"daily_vaccinations\", \"01/27/2022\")\n"
   ]
  },
  {
   "cell_type": "markdown",
   "id": "10998f58",
   "metadata": {},
   "source": [
    "Is your implementation correct? Test it with the following:"
   ]
  },
  {
   "cell_type": "code",
   "execution_count": 35,
   "id": "fbef32a2",
   "metadata": {},
   "outputs": [
    {
     "name": "stdout",
     "output_type": "stream",
     "text": [
      "Expected: 842954\t Actual: 842954\n",
      "Expected: 846080\t Actual: 846080\n",
      "Expected: None\t Actual: None\n",
      "Expected: None\t Actual: None\n",
      "Expected: 7044723\t Actual: 7044723\n",
      "Expected: 4517380\t Actual: 4517380\n"
     ]
    }
   ],
   "source": [
    "people_fully_vaccinated_by_Jan25 = most_recent_total(\"people_fully_vaccinated\", \"01/25/2022\")\n",
    "people_fully_vaccinated_by_Jan26 = most_recent_total(\"people_fully_vaccinated\", \"01/26/2022\")\n",
    "people_fully_vaccinated_by_Jan27 = most_recent_total(\"people_fully_vaccinated\", \"01/27/2022\")\n",
    "people_fully_vaccinated_by_Jan28 = most_recent_total(\"people_fully_vaccinated\", \"01/28/2022\")\n",
    "people_fully_vaccinated_by_Jan29 = most_recent_total(\"people_fully_vaccinated\", \"01/30/2022\")\n",
    "\n",
    "print(\"Expected: 842954\\t Actual:\", people_fully_vaccinated_by_Jan28['Bosnia and Herzegovina'])\n",
    "print(\"Expected: 846080\\t Actual:\", people_fully_vaccinated_by_Jan29['Bosnia and Herzegovina'])\n",
    "\n",
    "# Different country:\n",
    "\n",
    "print(\"Expected: None\\t Actual:\", people_fully_vaccinated_by_Jan25['Rwanda'])\n",
    "print(\"Expected: None\\t Actual:\", people_fully_vaccinated_by_Jan26['Rwanda'])\n",
    "print(\"Expected: 7044723\\t Actual:\", people_fully_vaccinated_by_Jan27['Rwanda'])\n",
    "\n",
    "# If you get None for the test below, you might have forgotten to make sure the col_value\n",
    "# is not missing on line 11 in most_recent_total\n",
    "\n",
    "print(\"Expected: 4517380\\t Actual:\", most_recent_total(\"people_vaccinated\", \"01/28/2022\")['Afghanistan'])\n"
   ]
  },
  {
   "cell_type": "code",
   "execution_count": 36,
   "id": "0f81c110",
   "metadata": {},
   "outputs": [
    {
     "name": "stdout",
     "output_type": "stream",
     "text": [
      "Expected: 6868\t Actual: 6868\n",
      "Expected: 5081064\t Actual: 5081064\n",
      "Expected: 4517380\t Actual: 4517380\n"
     ]
    }
   ],
   "source": [
    "# Check to make sure your code works with different column names:\n",
    "\n",
    "daily_vaccinations_by_Jan29 = most_recent_total(\"daily_vaccinations\", \"01/29/2022\")\n",
    "total_vaccinations_by_Jan29 = most_recent_total(\"total_vaccinations\", \"01/29/2022\")\n",
    "people_vaccinated_by_Jan29 = most_recent_total(\"people_vaccinated\", \"01/29/2022\")\n",
    "\n",
    "\n",
    "print(\"Expected: 6868\\t Actual:\", daily_vaccinations_by_Jan29['Afghanistan'])\n",
    "print(\"Expected: 5081064\\t Actual:\", total_vaccinations_by_Jan29['Afghanistan'])\n",
    "print(\"Expected: 4517380\\t Actual:\", people_vaccinated_by_Jan29['Afghanistan'])\n"
   ]
  },
  {
   "cell_type": "markdown",
   "id": "1385d415",
   "metadata": {},
   "source": [
    "**Important**: If you are unsure if you implementation is correct, raise your hand and confirm your implementation with a TA. The `most_recent_total` function will be important for the project.\n",
    "\n",
    "## Segment 4: Operations on Dictionaries\n",
    "\n",
    "### Task 4.1 Find the max value in a dictionary\n",
    "Imagine that a dorm kept statistics on the number of noise complaint incidents in different years. Complete the following code to find the year with the highest number of incidents:\n",
    "\n",
    "*Hint*: How did you find the highest speed hurricane in p5 and lab-p5? Try to apply the same idea here."
   ]
  },
  {
   "cell_type": "code",
   "execution_count": 37,
   "id": "7bce50b8",
   "metadata": {},
   "outputs": [
    {
     "data": {
      "text/plain": [
       "2021"
      ]
     },
     "execution_count": 37,
     "metadata": {},
     "output_type": "execute_result"
    }
   ],
   "source": [
    "#find the year with the most incidents\n",
    "\n",
    "incidents = {2017: 14, 2020: 18, 2018: 13, 2019: 16, 2021: 25, 2016: 10}\n",
    "\n",
    "max_year = None\n",
    "most_inc = 0\n",
    "\n",
    "for year in incidents:\n",
    "    val = incidents[year]\n",
    "    \n",
    "    if max_year == None or val > most_inc:\n",
    "        most_inc = val\n",
    "        max_year = year\n",
    "        \n",
    "max_year\n"
   ]
  },
  {
   "cell_type": "markdown",
   "id": "3d7ac83c",
   "metadata": {},
   "source": [
    "### Task 4.2 Find the percentage of free throws made\n",
    "\n",
    "Consider the following example, where we have statistics about free throws for three basketball players. How can you calculate the percentage of free throws each player made? "
   ]
  },
  {
   "cell_type": "code",
   "execution_count": 38,
   "id": "7aee5cae",
   "metadata": {},
   "outputs": [
    {
     "data": {
      "text/plain": [
       "{'Jim': 0.5, 'Annie': 0.5, 'Fred': 0.75}"
      ]
     },
     "execution_count": 38,
     "metadata": {},
     "output_type": "execute_result"
    }
   ],
   "source": [
    "free_throws_made = {\"Jim\": 1, \"Annie\": 2, \"Fred\": 3}\n",
    "\n",
    "total_free_throws = {\"Jim\": 2, \"Annie\": 4, \"Fred\": 4}\n",
    "\n",
    "percentage_made = {}\n",
    "\n",
    "key_list = list(free_throws_made)\n",
    "\n",
    "for key in key_list:\n",
    "    percent = free_throws_made[key] / total_free_throws[key]\n",
    "    percentage_made[key] = percent\n",
    "\n",
    "percentage_made\n",
    "\n",
    "\n",
    "# TODO: fill in the percentage_made dictionary so that the keys are the player names\n",
    "# and the values are the percentage of free throws they made\n"
   ]
  },
  {
   "cell_type": "code",
   "execution_count": 39,
   "id": "255b01ec",
   "metadata": {},
   "outputs": [
    {
     "name": "stdout",
     "output_type": "stream",
     "text": [
      "Expected: 0.5\t Actual: 0.5\n",
      "Expected: 0.5\t Actual: 0.5\n",
      "Expected: 0.75\t Actual: 0.75\n"
     ]
    }
   ],
   "source": [
    "# Test your implementation below:\n",
    "\n",
    "print(\"Expected: 0.5\\t Actual:\", percentage_made['Jim'])\n",
    "print(\"Expected: 0.5\\t Actual:\", percentage_made['Annie'])\n",
    "print(\"Expected: 0.75\\t Actual:\", percentage_made['Fred'])\n"
   ]
  },
  {
   "cell_type": "markdown",
   "id": "cc0b4d7c",
   "metadata": {},
   "source": [
    "## Great work! You are now ready to start P7.\n",
    "We have also provided some optional exercises below in case you want more practice with lists and dictionaries:\n",
    "\n",
    "## Optional Exercises\n",
    "\n",
    "### Dictionary from a list of Keys and a list of Values\n",
    "\n",
    "Create a dictionary that maps the English words in list `keys` to their corresponding Spanish translations in list `vals`:"
   ]
  },
  {
   "cell_type": "code",
   "execution_count": 40,
   "id": "782803d7",
   "metadata": {},
   "outputs": [
    {
     "data": {
      "text/plain": [
       "{'two': 'dos', 'zero': 'cero'}"
      ]
     },
     "execution_count": 40,
     "metadata": {},
     "output_type": "execute_result"
    }
   ],
   "source": [
    "# dict from list of keys and values\n",
    "\n",
    "keys = [\"two\", \"zero\"]\n",
    "vals = [\"dos\", \"cero\"]\n",
    "\n",
    "english_to_spanish = {}\n",
    "          \n",
    "for i in range(len(keys)):\n",
    "    english_to_spanish[keys[i]] = vals[i]\n",
    "\n",
    "english_to_spanish\n",
    "\n",
    "# TODO: fill in the english_to_spanish dictionary so that the keys are english\n",
    "# words, and the values are the spanish translations\n"
   ]
  },
  {
   "cell_type": "markdown",
   "id": "c914d94f",
   "metadata": {},
   "source": [
    "The resulting dictionary containing the mapping from English to Spanish\n",
    "words should look like this:\n",
    "\n",
    "```python\n",
    "{'two': 'dos', 'zero': 'cero'}\n",
    "```\n",
    "\n",
    "Now lets try using your `english_to_spanish` dictionary to partially translate the following English sentence.\n",
    "Not exactly a replacement for Google translate just yet, but it's\n",
    "a good start..."
   ]
  },
  {
   "cell_type": "code",
   "execution_count": 41,
   "id": "34650a60",
   "metadata": {},
   "outputs": [
    {
     "name": "stdout",
     "output_type": "stream",
     "text": [
      "['The', 'spanish', 'translations', 'for', 'the', 'english', 'words:', 'two', 'zero']\n",
      "['The', 'spanish', 'translations', 'for', 'the', 'english', 'words:', 'dos', 'cero']\n"
     ]
    }
   ],
   "source": [
    "#words = \"I love Comp Sci two two zero\".split(\" \")\n",
    "\n",
    "words = \"The spanish translations for the english words: two zero\".split(\" \")\n",
    "print(words)\n",
    "\n",
    "for i in range(len(words)):\n",
    "    default = words[i] # default is to not translate it\n",
    "    words[i] = english_to_spanish.get(words[i], default)\n",
    "\n",
    "    \" \".join(words)\n",
    "    \n",
    "print(words)\n"
   ]
  },
  {
   "cell_type": "markdown",
   "id": "ed564d55",
   "metadata": {},
   "source": [
    "*Question: What is the purpose of the 'default' variable?*\n",
    "\n",
    "*Question: What is the purpose of the line words[i] = english_to_spanish.get(words[i], default)?*"
   ]
  },
  {
   "cell_type": "markdown",
   "id": "6b6780fd",
   "metadata": {},
   "source": [
    "### Flipping Keys and Values\n",
    "\n",
    "What if we want a dictionary to convert from Spanish back to English?\n"
   ]
  },
  {
   "cell_type": "code",
   "execution_count": 42,
   "id": "fe67f0f2",
   "metadata": {},
   "outputs": [
    {
     "data": {
      "text/plain": [
       "{'dos': 'two', 'cero': 'zero'}"
      ]
     },
     "execution_count": 42,
     "metadata": {},
     "output_type": "execute_result"
    }
   ],
   "source": [
    "# flipping keys and values\n",
    "\n",
    "spanish_to_english = {}\n",
    "\n",
    "for key in english_to_spanish:\n",
    "    val = english_to_spanish[key]\n",
    "    spanish_to_english[val] = key \n",
    "    \n",
    "spanish_to_english\n",
    "\n",
    "# TODO: fill in spanish_to_english so that the keys are spanish \n",
    "# words and the values are the english translations.\n",
    "\n",
    "# Hint: You should only need to use your english_to_spanish dictionary,\n",
    "# and not the original keys and vals lists.\n"
   ]
  },
  {
   "cell_type": "markdown",
   "id": "ff1a3fa8",
   "metadata": {},
   "source": [
    "Your spanish_to_english dictionary should look like this if you print it out:\n",
    "\n",
    "```python\n",
    "{ 'dos': 'two', 'cero': 'zero'}\n",
    "```"
   ]
  }
 ],
 "metadata": {
  "kernelspec": {
   "display_name": "Python 3 (ipykernel)",
   "language": "python",
   "name": "python3"
  },
  "language_info": {
   "codemirror_mode": {
    "name": "ipython",
    "version": 3
   },
   "file_extension": ".py",
   "mimetype": "text/x-python",
   "name": "python",
   "nbconvert_exporter": "python",
   "pygments_lexer": "ipython3",
   "version": "3.9.7"
  }
 },
 "nbformat": 4,
 "nbformat_minor": 5
}
