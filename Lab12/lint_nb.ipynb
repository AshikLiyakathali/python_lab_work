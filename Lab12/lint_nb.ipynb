{
 "cells": [
  {
   "cell_type": "code",
   "execution_count": 5,
   "id": "1723219c",
   "metadata": {},
   "outputs": [
    {
     "data": {
      "text/plain": [
       "[1, 3, 5, 4, 8]"
      ]
     },
     "execution_count": 5,
     "metadata": {},
     "output_type": "execute_result"
    }
   ],
   "source": [
    "def absolute(some_list):\n",
    "    # Objective: return a new list, which contains absolute values of \n",
    "    #            items from the original list\n",
    "    new_list = some_list[:] # copy it\n",
    "    \n",
    "    for i in range(len(new_list)):\n",
    "        if new_list[i] < 0:\n",
    "            new_list[i] = -new_list[i]\n",
    "    return new_list\n",
    "\n",
    "absolute([-1, -3, 5, -4, 8])"
   ]
  },
  {
   "cell_type": "code",
   "execution_count": null,
   "id": "53d08f44",
   "metadata": {},
   "outputs": [],
   "source": []
  }
 ],
 "metadata": {
  "kernelspec": {
   "display_name": "Python 3 (ipykernel)",
   "language": "python",
   "name": "python3"
  },
  "language_info": {
   "codemirror_mode": {
    "name": "ipython",
    "version": 3
   },
   "file_extension": ".py",
   "mimetype": "text/x-python",
   "name": "python",
   "nbconvert_exporter": "python",
   "pygments_lexer": "ipython3",
   "version": "3.9.7"
  }
 },
 "nbformat": 4,
 "nbformat_minor": 5
}
